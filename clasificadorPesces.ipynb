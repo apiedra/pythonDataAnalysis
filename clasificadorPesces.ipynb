# Import blibliotecas por utilizar
import pandas as pd
from tensorflow import keras
import matplotlib.pyplot as plt
import numpy as np
from pandas import MultiIndex
from sklearn.model_selection import train_test_split
from sklearn import preprocessing

# cargando los datos hacia un Pandas dataframe
dataset = pd.read_excel('DATOSCLASIFICADOR.xlsx')
dataset.head()

dataset_one_hot=dataset
dataset_one_hot['CLASE'] = pd.factorize(dataset_one_hot['CLASE'])[0]
dataset_one_hot_label=dataset_one_hot['CLASE']
dataset_one_hot_train=dataset.drop(['CLASE'], axis=1)

dataset_one_hot_train=preprocessing.MinMaxScaler().fit_transform(dataset_one_hot_train)
X_train, X_test, y_train, y_test = train_test_split(dataset_one_hot_train, dataset_one_hot_label, test_size=0.3)

model = keras.Sequential([
    keras.layers.Dense(10, input_dim=2, activation='relu'),
    keras.layers.Dense(80, activation='relu'),
    keras.layers.Dense(100, activation='softmax')
])
model.compile(optimizer='adam',
              loss='sparse_categorical_crossentropy',
              metrics=['accuracy'])
model.fit(X_train, y_train, epochs=1000)


predict = model.predict_classes(X_test)
correct=0
incorrect=0
for i in range(len(y_test.values)):
    if y_test.values[i]!= predict[i]:
        incorrect=incorrect+1
        print("\033[91m label=%s, Predicted=%s" % (y_test.values[i], predict[i]))
    else:
        correct=correct+1
        print("\033[92m label=%s, Predicted=%s" % (y_test.values[i], predict[i]))
print("\033[30m correct=%s, incorrect=%s, %s" % (correct,incorrect,((100*correct)/len(y_test.values))))
