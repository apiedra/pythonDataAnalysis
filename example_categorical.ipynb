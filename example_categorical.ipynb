{
 "cells": [
  {
   "cell_type": "code",
   "execution_count": 1,
   "metadata": {},
   "outputs": [],
   "source": [
    "import pandas as pd\n",
    "from pandas.api.types import CategoricalDtype"
   ]
  },
  {
   "cell_type": "code",
   "execution_count": 7,
   "metadata": {},
   "outputs": [],
   "source": [
    "import zipfile"
   ]
  },
  {
   "cell_type": "code",
   "execution_count": 11,
   "metadata": {},
   "outputs": [],
   "source": [
    "z= zipfile.ZipFile('Downloads/PGYR17_P063020.ZIP')"
   ]
  },
  {
   "cell_type": "code",
   "execution_count": 13,
   "metadata": {},
   "outputs": [
    {
     "data": {
      "text/plain": [
       "[<ZipInfo filename='OP_DTL_GNRL_PGYR2017_P06302020.csv' compress_type=deflate filemode='-rw-rw-r--' file_size=6712056322 compress_size=549592156>,\n",
       " <ZipInfo filename='OP_DTL_OWNRSHP_PGYR2017_P06302020.csv' compress_type=deflate filemode='-rw-rw-r--' file_size=1256499 compress_size=171142>,\n",
       " <ZipInfo filename='OP_DTL_RSRCH_PGYR2017_P06302020.csv' compress_type=deflate filemode='-rw-rw-r--' file_size=584470556 compress_size=122746649>,\n",
       " <ZipInfo filename='OP_REMOVED_DELETED_PGYR2017_P06302020.csv' compress_type=deflate filemode='-rw-rw-r--' file_size=59355 compress_size=5641>,\n",
       " <ZipInfo filename='OP_PGYR2017_README_P06302020.txt' compress_type=deflate filemode='-rwxrwx---' file_size=6418 compress_size=2202>]"
      ]
     },
     "execution_count": 13,
     "metadata": {},
     "output_type": "execute_result"
    }
   ],
   "source": [
    "z.infolist()"
   ]
  },
  {
   "cell_type": "code",
   "execution_count": 15,
   "metadata": {},
   "outputs": [],
   "source": [
    "df_raw = pd.read_csv(z.open('OP_DTL_RSRCH_PGYR2017_P06302020.csv'), \n",
    "                     low_memory=False)"
   ]
  },
  {
   "cell_type": "code",
   "execution_count": 16,
   "metadata": {},
   "outputs": [
    {
     "data": {
      "text/plain": [
       "(673227, 176)"
      ]
     },
     "execution_count": 16,
     "metadata": {},
     "output_type": "execute_result"
    }
   ],
   "source": [
    "df_raw.shape"
   ]
  },
  {
   "cell_type": "code",
   "execution_count": 18,
   "metadata": {},
   "outputs": [
    {
     "data": {
      "text/plain": [
       "605904.3"
      ]
     },
     "execution_count": 18,
     "metadata": {},
     "output_type": "execute_result"
    }
   ],
   "source": [
    "drop_thresh = df_raw.shape[0]*.9\n",
    "drop_thresh"
   ]
  },
  {
   "cell_type": "code",
   "execution_count": 19,
   "metadata": {},
   "outputs": [],
   "source": [
    "df = df_raw.dropna(thresh=drop_thresh, how='all', axis='columns').copy()"
   ]
  },
  {
   "cell_type": "code",
   "execution_count": 20,
   "metadata": {},
   "outputs": [
    {
     "data": {
      "text/plain": [
       "(673227, 34)"
      ]
     },
     "execution_count": 20,
     "metadata": {},
     "output_type": "execute_result"
    }
   ],
   "source": [
    "df.shape"
   ]
  },
  {
   "cell_type": "code",
   "execution_count": 21,
   "metadata": {
    "scrolled": true
   },
   "outputs": [
    {
     "name": "stdout",
     "output_type": "stream",
     "text": [
      "<class 'pandas.core.frame.DataFrame'>\n",
      "RangeIndex: 673227 entries, 0 to 673226\n",
      "Columns: 176 entries, Change_Type to Context_of_Research\n",
      "dtypes: float64(34), int64(3), object(139)\n",
      "memory usage: 904.0+ MB\n"
     ]
    }
   ],
   "source": [
    "df_raw.info()"
   ]
  },
  {
   "cell_type": "code",
   "execution_count": 22,
   "metadata": {},
   "outputs": [
    {
     "name": "stdout",
     "output_type": "stream",
     "text": [
      "<class 'pandas.core.frame.DataFrame'>\n",
      "RangeIndex: 673227 entries, 0 to 673226\n",
      "Data columns (total 34 columns):\n",
      " #   Column                                                            Non-Null Count   Dtype  \n",
      "---  ------                                                            --------------   -----  \n",
      " 0   Change_Type                                                       673227 non-null  object \n",
      " 1   Covered_Recipient_Type                                            673227 non-null  object \n",
      " 2   Recipient_Primary_Business_Street_Address_Line1                   672568 non-null  object \n",
      " 3   Recipient_City                                                    672568 non-null  object \n",
      " 4   Recipient_State                                                   672008 non-null  object \n",
      " 5   Recipient_Zip_Code                                                672008 non-null  object \n",
      " 6   Recipient_Country                                                 672568 non-null  object \n",
      " 7   Principal_Investigator_1_Profile_ID                               636770 non-null  float64\n",
      " 8   Principal_Investigator_1_First_Name                               636770 non-null  object \n",
      " 9   Principal_Investigator_1_Last_Name                                636770 non-null  object \n",
      " 10  Principal_Investigator_1_Business_Street_Address_Line1            636770 non-null  object \n",
      " 11  Principal_Investigator_1_City                                     636770 non-null  object \n",
      " 12  Principal_Investigator_1_State                                    636749 non-null  object \n",
      " 13  Principal_Investigator_1_Zip_Code                                 636749 non-null  object \n",
      " 14  Principal_Investigator_1_Country                                  636770 non-null  object \n",
      " 15  Principal_Investigator_1_Primary_Type                             636770 non-null  object \n",
      " 16  Principal_Investigator_1_Specialty                                635907 non-null  object \n",
      " 17  Principal_Investigator_1_License_State_code1                      636770 non-null  object \n",
      " 18  Submitting_Applicable_Manufacturer_or_Applicable_GPO_Name         673227 non-null  object \n",
      " 19  Applicable_Manufacturer_or_Applicable_GPO_Making_Payment_ID       673227 non-null  int64  \n",
      " 20  Applicable_Manufacturer_or_Applicable_GPO_Making_Payment_Name     673227 non-null  object \n",
      " 21  Applicable_Manufacturer_or_Applicable_GPO_Making_Payment_State    608591 non-null  object \n",
      " 22  Applicable_Manufacturer_or_Applicable_GPO_Making_Payment_Country  673227 non-null  object \n",
      " 23  Related_Product_Indicator                                         673227 non-null  object \n",
      " 24  Total_Amount_of_Payment_USDollars                                 673227 non-null  float64\n",
      " 25  Date_of_Payment                                                   673227 non-null  object \n",
      " 26  Form_of_Payment_or_Transfer_of_Value                              673227 non-null  object \n",
      " 27  Preclinical_Research_Indicator                                    673227 non-null  object \n",
      " 28  Delay_in_Publication_Indicator                                    673227 non-null  object \n",
      " 29  Name_of_Study                                                     666425 non-null  object \n",
      " 30  Dispute_Status_for_Publication                                    673227 non-null  object \n",
      " 31  Record_ID                                                         673227 non-null  int64  \n",
      " 32  Program_Year                                                      673227 non-null  int64  \n",
      " 33  Payment_Publication_Date                                          673227 non-null  object \n",
      "dtypes: float64(2), int64(3), object(29)\n",
      "memory usage: 174.6+ MB\n"
     ]
    }
   ],
   "source": [
    "df.info()"
   ]
  },
  {
   "cell_type": "code",
   "execution_count": 23,
   "metadata": {},
   "outputs": [],
   "source": [
    "unique_counts = pd.DataFrame.from_records([(col, df[col].nunique()) for col in df.columns],\n",
    "                          columns=['Column_Name', 'Num_Unique']).sort_values(by=['Num_Unique'])"
   ]
  },
  {
   "cell_type": "code",
   "execution_count": 24,
   "metadata": {},
   "outputs": [
    {
     "data": {
      "text/html": [
       "<div>\n",
       "<style scoped>\n",
       "    .dataframe tbody tr th:only-of-type {\n",
       "        vertical-align: middle;\n",
       "    }\n",
       "\n",
       "    .dataframe tbody tr th {\n",
       "        vertical-align: top;\n",
       "    }\n",
       "\n",
       "    .dataframe thead th {\n",
       "        text-align: right;\n",
       "    }\n",
       "</style>\n",
       "<table border=\"1\" class=\"dataframe\">\n",
       "  <thead>\n",
       "    <tr style=\"text-align: right;\">\n",
       "      <th></th>\n",
       "      <th>Column_Name</th>\n",
       "      <th>Num_Unique</th>\n",
       "    </tr>\n",
       "  </thead>\n",
       "  <tbody>\n",
       "    <tr>\n",
       "      <th>33</th>\n",
       "      <td>Payment_Publication_Date</td>\n",
       "      <td>1</td>\n",
       "    </tr>\n",
       "    <tr>\n",
       "      <th>28</th>\n",
       "      <td>Delay_in_Publication_Indicator</td>\n",
       "      <td>1</td>\n",
       "    </tr>\n",
       "    <tr>\n",
       "      <th>32</th>\n",
       "      <td>Program_Year</td>\n",
       "      <td>1</td>\n",
       "    </tr>\n",
       "    <tr>\n",
       "      <th>30</th>\n",
       "      <td>Dispute_Status_for_Publication</td>\n",
       "      <td>2</td>\n",
       "    </tr>\n",
       "    <tr>\n",
       "      <th>27</th>\n",
       "      <td>Preclinical_Research_Indicator</td>\n",
       "      <td>2</td>\n",
       "    </tr>\n",
       "    <tr>\n",
       "      <th>23</th>\n",
       "      <td>Related_Product_Indicator</td>\n",
       "      <td>2</td>\n",
       "    </tr>\n",
       "    <tr>\n",
       "      <th>26</th>\n",
       "      <td>Form_of_Payment_or_Transfer_of_Value</td>\n",
       "      <td>3</td>\n",
       "    </tr>\n",
       "    <tr>\n",
       "      <th>14</th>\n",
       "      <td>Principal_Investigator_1_Country</td>\n",
       "      <td>4</td>\n",
       "    </tr>\n",
       "    <tr>\n",
       "      <th>0</th>\n",
       "      <td>Change_Type</td>\n",
       "      <td>4</td>\n",
       "    </tr>\n",
       "    <tr>\n",
       "      <th>1</th>\n",
       "      <td>Covered_Recipient_Type</td>\n",
       "      <td>4</td>\n",
       "    </tr>\n",
       "    <tr>\n",
       "      <th>15</th>\n",
       "      <td>Principal_Investigator_1_Primary_Type</td>\n",
       "      <td>6</td>\n",
       "    </tr>\n",
       "    <tr>\n",
       "      <th>6</th>\n",
       "      <td>Recipient_Country</td>\n",
       "      <td>9</td>\n",
       "    </tr>\n",
       "    <tr>\n",
       "      <th>22</th>\n",
       "      <td>Applicable_Manufacturer_or_Applicable_GPO_Maki...</td>\n",
       "      <td>21</td>\n",
       "    </tr>\n",
       "    <tr>\n",
       "      <th>21</th>\n",
       "      <td>Applicable_Manufacturer_or_Applicable_GPO_Maki...</td>\n",
       "      <td>35</td>\n",
       "    </tr>\n",
       "    <tr>\n",
       "      <th>4</th>\n",
       "      <td>Recipient_State</td>\n",
       "      <td>54</td>\n",
       "    </tr>\n",
       "    <tr>\n",
       "      <th>17</th>\n",
       "      <td>Principal_Investigator_1_License_State_code1</td>\n",
       "      <td>54</td>\n",
       "    </tr>\n",
       "    <tr>\n",
       "      <th>12</th>\n",
       "      <td>Principal_Investigator_1_State</td>\n",
       "      <td>55</td>\n",
       "    </tr>\n",
       "    <tr>\n",
       "      <th>16</th>\n",
       "      <td>Principal_Investigator_1_Specialty</td>\n",
       "      <td>244</td>\n",
       "    </tr>\n",
       "    <tr>\n",
       "      <th>25</th>\n",
       "      <td>Date_of_Payment</td>\n",
       "      <td>365</td>\n",
       "    </tr>\n",
       "    <tr>\n",
       "      <th>18</th>\n",
       "      <td>Submitting_Applicable_Manufacturer_or_Applicab...</td>\n",
       "      <td>569</td>\n",
       "    </tr>\n",
       "    <tr>\n",
       "      <th>19</th>\n",
       "      <td>Applicable_Manufacturer_or_Applicable_GPO_Maki...</td>\n",
       "      <td>637</td>\n",
       "    </tr>\n",
       "    <tr>\n",
       "      <th>20</th>\n",
       "      <td>Applicable_Manufacturer_or_Applicable_GPO_Maki...</td>\n",
       "      <td>649</td>\n",
       "    </tr>\n",
       "    <tr>\n",
       "      <th>11</th>\n",
       "      <td>Principal_Investigator_1_City</td>\n",
       "      <td>4209</td>\n",
       "    </tr>\n",
       "    <tr>\n",
       "      <th>3</th>\n",
       "      <td>Recipient_City</td>\n",
       "      <td>4454</td>\n",
       "    </tr>\n",
       "    <tr>\n",
       "      <th>8</th>\n",
       "      <td>Principal_Investigator_1_First_Name</td>\n",
       "      <td>8639</td>\n",
       "    </tr>\n",
       "    <tr>\n",
       "      <th>5</th>\n",
       "      <td>Recipient_Zip_Code</td>\n",
       "      <td>13901</td>\n",
       "    </tr>\n",
       "    <tr>\n",
       "      <th>13</th>\n",
       "      <td>Principal_Investigator_1_Zip_Code</td>\n",
       "      <td>14406</td>\n",
       "    </tr>\n",
       "    <tr>\n",
       "      <th>29</th>\n",
       "      <td>Name_of_Study</td>\n",
       "      <td>14460</td>\n",
       "    </tr>\n",
       "    <tr>\n",
       "      <th>9</th>\n",
       "      <td>Principal_Investigator_1_Last_Name</td>\n",
       "      <td>22355</td>\n",
       "    </tr>\n",
       "    <tr>\n",
       "      <th>10</th>\n",
       "      <td>Principal_Investigator_1_Business_Street_Addre...</td>\n",
       "      <td>30726</td>\n",
       "    </tr>\n",
       "    <tr>\n",
       "      <th>7</th>\n",
       "      <td>Principal_Investigator_1_Profile_ID</td>\n",
       "      <td>31221</td>\n",
       "    </tr>\n",
       "    <tr>\n",
       "      <th>2</th>\n",
       "      <td>Recipient_Primary_Business_Street_Address_Line1</td>\n",
       "      <td>41664</td>\n",
       "    </tr>\n",
       "    <tr>\n",
       "      <th>24</th>\n",
       "      <td>Total_Amount_of_Payment_USDollars</td>\n",
       "      <td>156164</td>\n",
       "    </tr>\n",
       "    <tr>\n",
       "      <th>31</th>\n",
       "      <td>Record_ID</td>\n",
       "      <td>673227</td>\n",
       "    </tr>\n",
       "  </tbody>\n",
       "</table>\n",
       "</div>"
      ],
      "text/plain": [
       "                                          Column_Name  Num_Unique\n",
       "33                           Payment_Publication_Date           1\n",
       "28                     Delay_in_Publication_Indicator           1\n",
       "32                                       Program_Year           1\n",
       "30                     Dispute_Status_for_Publication           2\n",
       "27                     Preclinical_Research_Indicator           2\n",
       "23                          Related_Product_Indicator           2\n",
       "26               Form_of_Payment_or_Transfer_of_Value           3\n",
       "14                   Principal_Investigator_1_Country           4\n",
       "0                                         Change_Type           4\n",
       "1                              Covered_Recipient_Type           4\n",
       "15              Principal_Investigator_1_Primary_Type           6\n",
       "6                                   Recipient_Country           9\n",
       "22  Applicable_Manufacturer_or_Applicable_GPO_Maki...          21\n",
       "21  Applicable_Manufacturer_or_Applicable_GPO_Maki...          35\n",
       "4                                     Recipient_State          54\n",
       "17       Principal_Investigator_1_License_State_code1          54\n",
       "12                     Principal_Investigator_1_State          55\n",
       "16                 Principal_Investigator_1_Specialty         244\n",
       "25                                    Date_of_Payment         365\n",
       "18  Submitting_Applicable_Manufacturer_or_Applicab...         569\n",
       "19  Applicable_Manufacturer_or_Applicable_GPO_Maki...         637\n",
       "20  Applicable_Manufacturer_or_Applicable_GPO_Maki...         649\n",
       "11                      Principal_Investigator_1_City        4209\n",
       "3                                      Recipient_City        4454\n",
       "8                 Principal_Investigator_1_First_Name        8639\n",
       "5                                  Recipient_Zip_Code       13901\n",
       "13                  Principal_Investigator_1_Zip_Code       14406\n",
       "29                                      Name_of_Study       14460\n",
       "9                  Principal_Investigator_1_Last_Name       22355\n",
       "10  Principal_Investigator_1_Business_Street_Addre...       30726\n",
       "7                 Principal_Investigator_1_Profile_ID       31221\n",
       "2     Recipient_Primary_Business_Street_Address_Line1       41664\n",
       "24                  Total_Amount_of_Payment_USDollars      156164\n",
       "31                                          Record_ID      673227"
      ]
     },
     "execution_count": 24,
     "metadata": {},
     "output_type": "execute_result"
    }
   ],
   "source": [
    "unique_counts"
   ]
  },
  {
   "cell_type": "code",
   "execution_count": 25,
   "metadata": {},
   "outputs": [],
   "source": [
    "cols_to_exclude = ['Program_Year', 'Date_of_Payment', 'Payment_Publication_Date']"
   ]
  },
  {
   "cell_type": "code",
   "execution_count": 26,
   "metadata": {},
   "outputs": [],
   "source": [
    "for col in df.columns:\n",
    "    if (df[col].nunique() < 600) and (col not in cols_to_exclude):\n",
    "        df[col] = df[col].astype('category')"
   ]
  },
  {
   "cell_type": "code",
   "execution_count": 28,
   "metadata": {},
   "outputs": [
    {
     "name": "stdout",
     "output_type": "stream",
     "text": [
      "<class 'pandas.core.frame.DataFrame'>\n",
      "RangeIndex: 673227 entries, 0 to 673226\n",
      "Data columns (total 34 columns):\n",
      " #   Column                                                            Non-Null Count   Dtype   \n",
      "---  ------                                                            --------------   -----   \n",
      " 0   Change_Type                                                       673227 non-null  category\n",
      " 1   Covered_Recipient_Type                                            673227 non-null  category\n",
      " 2   Recipient_Primary_Business_Street_Address_Line1                   672568 non-null  object  \n",
      " 3   Recipient_City                                                    672568 non-null  object  \n",
      " 4   Recipient_State                                                   672008 non-null  category\n",
      " 5   Recipient_Zip_Code                                                672008 non-null  object  \n",
      " 6   Recipient_Country                                                 672568 non-null  category\n",
      " 7   Principal_Investigator_1_Profile_ID                               636770 non-null  float64 \n",
      " 8   Principal_Investigator_1_First_Name                               636770 non-null  object  \n",
      " 9   Principal_Investigator_1_Last_Name                                636770 non-null  object  \n",
      " 10  Principal_Investigator_1_Business_Street_Address_Line1            636770 non-null  object  \n",
      " 11  Principal_Investigator_1_City                                     636770 non-null  object  \n",
      " 12  Principal_Investigator_1_State                                    636749 non-null  category\n",
      " 13  Principal_Investigator_1_Zip_Code                                 636749 non-null  object  \n",
      " 14  Principal_Investigator_1_Country                                  636770 non-null  category\n",
      " 15  Principal_Investigator_1_Primary_Type                             636770 non-null  category\n",
      " 16  Principal_Investigator_1_Specialty                                635907 non-null  category\n",
      " 17  Principal_Investigator_1_License_State_code1                      636770 non-null  category\n",
      " 18  Submitting_Applicable_Manufacturer_or_Applicable_GPO_Name         673227 non-null  category\n",
      " 19  Applicable_Manufacturer_or_Applicable_GPO_Making_Payment_ID       673227 non-null  int64   \n",
      " 20  Applicable_Manufacturer_or_Applicable_GPO_Making_Payment_Name     673227 non-null  object  \n",
      " 21  Applicable_Manufacturer_or_Applicable_GPO_Making_Payment_State    608591 non-null  category\n",
      " 22  Applicable_Manufacturer_or_Applicable_GPO_Making_Payment_Country  673227 non-null  category\n",
      " 23  Related_Product_Indicator                                         673227 non-null  category\n",
      " 24  Total_Amount_of_Payment_USDollars                                 673227 non-null  float64 \n",
      " 25  Date_of_Payment                                                   673227 non-null  object  \n",
      " 26  Form_of_Payment_or_Transfer_of_Value                              673227 non-null  category\n",
      " 27  Preclinical_Research_Indicator                                    673227 non-null  category\n",
      " 28  Delay_in_Publication_Indicator                                    673227 non-null  category\n",
      " 29  Name_of_Study                                                     666425 non-null  object  \n",
      " 30  Dispute_Status_for_Publication                                    673227 non-null  category\n",
      " 31  Record_ID                                                         673227 non-null  int64   \n",
      " 32  Program_Year                                                      673227 non-null  int64   \n",
      " 33  Payment_Publication_Date                                          673227 non-null  object  \n",
      "dtypes: category(17), float64(2), int64(3), object(12)\n",
      "memory usage: 99.6+ MB\n"
     ]
    }
   ],
   "source": [
    "df.info()"
   ]
  },
  {
   "cell_type": "code",
   "execution_count": 29,
   "metadata": {},
   "outputs": [
    {
     "data": {
      "text/plain": [
       "Change_Type                                                         category\n",
       "Covered_Recipient_Type                                              category\n",
       "Recipient_Primary_Business_Street_Address_Line1                       object\n",
       "Recipient_City                                                        object\n",
       "Recipient_State                                                     category\n",
       "Recipient_Zip_Code                                                    object\n",
       "Recipient_Country                                                   category\n",
       "Principal_Investigator_1_Profile_ID                                  float64\n",
       "Principal_Investigator_1_First_Name                                   object\n",
       "Principal_Investigator_1_Last_Name                                    object\n",
       "Principal_Investigator_1_Business_Street_Address_Line1                object\n",
       "Principal_Investigator_1_City                                         object\n",
       "Principal_Investigator_1_State                                      category\n",
       "Principal_Investigator_1_Zip_Code                                     object\n",
       "Principal_Investigator_1_Country                                    category\n",
       "Principal_Investigator_1_Primary_Type                               category\n",
       "Principal_Investigator_1_Specialty                                  category\n",
       "Principal_Investigator_1_License_State_code1                        category\n",
       "Submitting_Applicable_Manufacturer_or_Applicable_GPO_Name           category\n",
       "Applicable_Manufacturer_or_Applicable_GPO_Making_Payment_ID            int64\n",
       "Applicable_Manufacturer_or_Applicable_GPO_Making_Payment_Name         object\n",
       "Applicable_Manufacturer_or_Applicable_GPO_Making_Payment_State      category\n",
       "Applicable_Manufacturer_or_Applicable_GPO_Making_Payment_Country    category\n",
       "Related_Product_Indicator                                           category\n",
       "Total_Amount_of_Payment_USDollars                                    float64\n",
       "Date_of_Payment                                                       object\n",
       "Form_of_Payment_or_Transfer_of_Value                                category\n",
       "Preclinical_Research_Indicator                                      category\n",
       "Delay_in_Publication_Indicator                                      category\n",
       "Name_of_Study                                                         object\n",
       "Dispute_Status_for_Publication                                      category\n",
       "Record_ID                                                              int64\n",
       "Program_Year                                                           int64\n",
       "Payment_Publication_Date                                              object\n",
       "dtype: object"
      ]
     },
     "execution_count": 29,
     "metadata": {},
     "output_type": "execute_result"
    }
   ],
   "source": [
    "df.dtypes"
   ]
  },
  {
   "cell_type": "code",
   "execution_count": 30,
   "metadata": {},
   "outputs": [
    {
     "data": {
      "text/html": [
       "<div>\n",
       "<style scoped>\n",
       "    .dataframe tbody tr th:only-of-type {\n",
       "        vertical-align: middle;\n",
       "    }\n",
       "\n",
       "    .dataframe tbody tr th {\n",
       "        vertical-align: top;\n",
       "    }\n",
       "\n",
       "    .dataframe thead th {\n",
       "        text-align: right;\n",
       "    }\n",
       "</style>\n",
       "<table border=\"1\" class=\"dataframe\">\n",
       "  <thead>\n",
       "    <tr style=\"text-align: right;\">\n",
       "      <th></th>\n",
       "      <th>Total_Amount_of_Payment_USDollars</th>\n",
       "    </tr>\n",
       "    <tr>\n",
       "      <th>Form_of_Payment_or_Transfer_of_Value</th>\n",
       "      <th></th>\n",
       "    </tr>\n",
       "  </thead>\n",
       "  <tbody>\n",
       "    <tr>\n",
       "      <th>Cash or cash equivalent</th>\n",
       "      <td>3.938409e+09</td>\n",
       "    </tr>\n",
       "    <tr>\n",
       "      <th>Dividend, profit or other return on investment</th>\n",
       "      <td>1.371360e+05</td>\n",
       "    </tr>\n",
       "    <tr>\n",
       "      <th>In-kind items and services</th>\n",
       "      <td>1.317907e+09</td>\n",
       "    </tr>\n",
       "  </tbody>\n",
       "</table>\n",
       "</div>"
      ],
      "text/plain": [
       "                                                Total_Amount_of_Payment_USDollars\n",
       "Form_of_Payment_or_Transfer_of_Value                                             \n",
       "Cash or cash equivalent                                              3.938409e+09\n",
       "Dividend, profit or other return on investment                       1.371360e+05\n",
       "In-kind items and services                                           1.317907e+09"
      ]
     },
     "execution_count": 30,
     "metadata": {},
     "output_type": "execute_result"
    }
   ],
   "source": [
    "df.groupby('Form_of_Payment_or_Transfer_of_Value')['Total_Amount_of_Payment_USDollars'].sum().to_frame()"
   ]
  },
  {
   "cell_type": "code",
   "execution_count": 31,
   "metadata": {},
   "outputs": [
    {
     "name": "stdout",
     "output_type": "stream",
     "text": [
      "104 ms ± 17 ms per loop (mean ± std. dev. of 7 runs, 10 loops each)\n"
     ]
    }
   ],
   "source": [
    "%%timeit\n",
    "df_raw.groupby('Covered_Recipient_Type')['Total_Amount_of_Payment_USDollars'].sum().to_frame()"
   ]
  },
  {
   "cell_type": "code",
   "execution_count": 32,
   "metadata": {},
   "outputs": [
    {
     "name": "stdout",
     "output_type": "stream",
     "text": [
      "10.7 ms ± 1.07 ms per loop (mean ± std. dev. of 7 runs, 100 loops each)\n"
     ]
    }
   ],
   "source": [
    "%%timeit\n",
    "df.groupby('Covered_Recipient_Type')['Total_Amount_of_Payment_USDollars'].sum().to_frame()"
   ]
  },
  {
   "cell_type": "code",
   "execution_count": null,
   "metadata": {},
   "outputs": [],
   "source": []
  }
 ],
 "metadata": {
  "kernelspec": {
   "display_name": "Python 3",
   "language": "python",
   "name": "python3"
  },
  "language_info": {
   "codemirror_mode": {
    "name": "ipython",
    "version": 3
   },
   "file_extension": ".py",
   "mimetype": "text/x-python",
   "name": "python",
   "nbconvert_exporter": "python",
   "pygments_lexer": "ipython3",
   "version": "3.7.6"
  }
 },
 "nbformat": 4,
 "nbformat_minor": 4
}
