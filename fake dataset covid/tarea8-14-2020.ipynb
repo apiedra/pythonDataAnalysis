{
 "metadata": {
  "language_info": {
   "codemirror_mode": {
    "name": "ipython",
    "version": 3
   },
   "file_extension": ".py",
   "mimetype": "text/x-python",
   "name": "python",
   "nbconvert_exporter": "python",
   "pygments_lexer": "ipython3",
   "version": "3.8.3-final"
  },
  "orig_nbformat": 2,
  "kernelspec": {
   "name": "python38332bite4196d9ba605403780aceabee88d0318",
   "display_name": "Python 3.8.3 32-bit"
  }
 },
 "nbformat": 4,
 "nbformat_minor": 2,
 "cells": [
  {
   "cell_type": "markdown",
   "metadata": {},
   "source": [
    "Declaración de librerías e inicialización de valores"
   ]
  },
  {
   "cell_type": "markdown",
   "metadata": {},
   "source": [
    "Ruta del dataset: https://www.tse.go.cr/zip/padron/padron_completo.zip "
   ]
  },
  {
   "cell_type": "code",
   "execution_count": 12,
   "metadata": {},
   "outputs": [],
   "source": [
    "import pandas as pd\n",
    "\n",
    "import numpy as np\n",
    "from datetime import datetime, timedelta\n",
    "date = '31/12/2019'#init date\n",
    "days=1\n",
    "estado = {\n",
    "    1: 'subceptible', \n",
    "    2: 'infectado',\n",
    "    3: 'recuperado',\n",
    "    4: 'fallecido'\n",
    "}"
   ]
  },
  {
   "cell_type": "markdown",
   "metadata": {},
   "source": [
    "Se lee los archivos csv(se hace de esta forma por que los caracteres especiales daban error)"
   ]
  },
  {
   "cell_type": "code",
   "execution_count": 2,
   "metadata": {
    "tags": []
   },
   "outputs": [],
   "source": [
    "\n",
    "with open('PADRON_COMPLETO.txt', 'r', encoding='utf8', errors='ignore') as pad:\n",
    "    padron = pd.read_csv(pad, encoding='utf-8',header=None)\n",
    "\n",
    "with open('Distelec.txt', 'r', encoding='utf8', errors='ignore') as dire:\n",
    "    direcciones = pd.read_csv(dire, encoding='utf-8',header=None)\n"
   ]
  },
  {
   "cell_type": "markdown",
   "metadata": {},
   "source": [
    "Se asigna un nombre a las columna"
   ]
  },
  {
   "cell_type": "code",
   "execution_count": 3,
   "metadata": {
    "tags": []
   },
   "outputs": [],
   "source": [
    "direcciones=direcciones.rename(columns={0: \"CODELEC\", 1: \"PROVINCIA\", 2: \"CANTON\", 3: \"DISTRITO\"})\n",
    "padron=padron.rename(columns={0: \"CEDULA\", 1: \"CODELEC\", 2: \"RELLENO\", 3: \"FECHACADUC\", 4: \"JUNTA\", 5: \"NOMBRE\", 6: \"PRIMER_APELLIDO\", 7: \"SEGUNDO_APPELIDO\"})"
   ]
  },
  {
   "cell_type": "markdown",
   "metadata": {},
   "source": [
    "Se hace merge de los dos fuentes para manejar un sólo dataset"
   ]
  },
  {
   "cell_type": "code",
   "execution_count": 4,
   "metadata": {},
   "outputs": [
    {
     "output_type": "execute_result",
     "data": {
      "text/plain": "      CEDULA  CODELEC  RELLENO  FECHACADUC  JUNTA  \\\n0  100339724   109007        1    20231119      0   \n1  101300341   109007        2    20220228      0   \n\n                           NOMBRE             PRIMER_APELLIDO  \\\n0  JOSE                            DELGADO                      \n1  ERMIDA                          SOLIS                        \n\n             SEGUNDO_APPELIDO PROVINCIA     CANTON  \\\n0  CORRALES                    SAN JOSE  SANTA ANA   \n1  FALLAS                      SAN JOSE  SANTA ANA   \n\n                                            DISTRITO  \n0  PIEDADES                                      ...  \n1  PIEDADES                                      ...  ",
      "text/html": "<div>\n<style scoped>\n    .dataframe tbody tr th:only-of-type {\n        vertical-align: middle;\n    }\n\n    .dataframe tbody tr th {\n        vertical-align: top;\n    }\n\n    .dataframe thead th {\n        text-align: right;\n    }\n</style>\n<table border=\"1\" class=\"dataframe\">\n  <thead>\n    <tr style=\"text-align: right;\">\n      <th></th>\n      <th>CEDULA</th>\n      <th>CODELEC</th>\n      <th>RELLENO</th>\n      <th>FECHACADUC</th>\n      <th>JUNTA</th>\n      <th>NOMBRE</th>\n      <th>PRIMER_APELLIDO</th>\n      <th>SEGUNDO_APPELIDO</th>\n      <th>PROVINCIA</th>\n      <th>CANTON</th>\n      <th>DISTRITO</th>\n    </tr>\n  </thead>\n  <tbody>\n    <tr>\n      <th>0</th>\n      <td>100339724</td>\n      <td>109007</td>\n      <td>1</td>\n      <td>20231119</td>\n      <td>0</td>\n      <td>JOSE</td>\n      <td>DELGADO</td>\n      <td>CORRALES</td>\n      <td>SAN JOSE</td>\n      <td>SANTA ANA</td>\n      <td>PIEDADES                                      ...</td>\n    </tr>\n    <tr>\n      <th>1</th>\n      <td>101300341</td>\n      <td>109007</td>\n      <td>2</td>\n      <td>20220228</td>\n      <td>0</td>\n      <td>ERMIDA</td>\n      <td>SOLIS</td>\n      <td>FALLAS</td>\n      <td>SAN JOSE</td>\n      <td>SANTA ANA</td>\n      <td>PIEDADES                                      ...</td>\n    </tr>\n  </tbody>\n</table>\n</div>"
     },
     "metadata": {},
     "execution_count": 4
    }
   ],
   "source": [
    "padron_Completo=padron.merge(direcciones, left_on=\"CODELEC\", right_on=\"CODELEC\")\n",
    "padron_Completo.head(2)"
   ]
  },
  {
   "cell_type": "markdown",
   "metadata": {},
   "source": [
    "Se genera el dataset y se guardar en csv"
   ]
  },
  {
   "cell_type": "code",
   "execution_count": 23,
   "metadata": {
    "tags": []
   },
   "outputs": [
    {
     "output_type": "stream",
     "name": "stdout",
     "text": "fecha: 10/01/2020, cantidad de infectados: 65\n"
    },
    {
     "output_type": "execute_result",
     "data": {
      "text/plain": "            CEDULA  CODELEC  RELLENO  FECHACADUC  JUNTA  \\\n1608902  106670226   110007        2    20261028      0   \n1136858  108680940   106008        2    20280523      0   \n342061   113640562   109006        2    20270308      0   \n1712889  108550510   105010        2    20281022      0   \n338381   800730211   101008        1    20260913      0   \n...            ...      ...      ...         ...    ...   \n2371316  604200939   302020        2    20250320      0   \n1130988  603670168   610001        1    20270516      0   \n95426    103970434   110004        2    20220331      0   \n930555   103800106   101015        1    20220430      0   \n2146026  114960167   501015        1    20300204      0   \n\n                                 NOMBRE             PRIMER_APELLIDO  \\\n1608902  MAGALI                          SALAZAR                      \n1136858  VANESSA                         VALVERDE                     \n342061   MARIA ELENA                     CANTILLO                     \n1712889  AIDA                            CAMACHO                      \n338381   FLAVIO                          TAPIA                        \n...                                 ...                         ...   \n2371316  MARILYN YESENIA                 VILLALOBOS                   \n1130988  VICTOR MANUEL                    MUOZ                        \n95426    ZULEMA                          JIMENEZ                      \n930555   TOMAS IGNACIO                   DE LA OSSA                   \n2146026  GERALD STEVEN                   MADRIGAL                     \n\n                   SEGUNDO_APPELIDO   PROVINCIA      CANTON  \\\n1608902  ORTIZ                         SAN JOSE  ALAJUELITA   \n1136858  CARVAJAL                      SAN JOSE      ASERRI   \n342061   AZOFEIFA                      SAN JOSE   SANTA ANA   \n1712889  CASTILLO                      SAN JOSE     TARRAZU   \n338381   INSUASTI                      SAN JOSE     CENTRAL   \n...                             ...         ...         ...   \n2371316  OCHOA                          CARTAGO     PARAISO   \n1130988  GOMEZ                       PUNTARENAS  CORREDORES   \n95426    CHAVARRIA                     SAN JOSE  ALAJUELITA   \n930555   THOMPSON                      SAN JOSE     CENTRAL   \n2146026  CASCANTE                    GUANACASTE     LIBERIA   \n\n                                                  DISTRITO       ESTADO  \\\n1608902  AURORA                                        ...  subceptible   \n1136858  SAN GABRIEL                                   ...    infectado   \n342061   RIO ORO                                       ...    infectado   \n1712889  SAN JERONIMO                                  ...   recuperado   \n338381   SAN SEBASTIAN                                 ...   recuperado   \n...                                                    ...          ...   \n2371316  LLANOS DE SANTA LUCIA                         ...  subceptible   \n1130988  NEILY                                         ...    fallecido   \n95426    CONCEPCION ABAJO                              ...   recuperado   \n930555   ARANJUEZ                                      ...    fallecido   \n2146026  LA VICTORIA                                   ...    infectado   \n\n        FECHA_CONTAGIO FECHA_RECUPERACION RECONTAGIO  \n1608902                                               \n1136858     27/12/2019                                \n342061      26/12/2019                                \n1712889     26/12/2019         10/01/2020         SI  \n338381      27/12/2019         10/01/2020         NO  \n...                ...                ...        ...  \n2371316                                               \n1130988     28/12/2019         10/01/2020             \n95426       28/12/2019         10/01/2020         NO  \n930555      30/12/2019         10/01/2020             \n2146026     29/12/2019                                \n\n[65 rows x 15 columns]",
      "text/html": "<div>\n<style scoped>\n    .dataframe tbody tr th:only-of-type {\n        vertical-align: middle;\n    }\n\n    .dataframe tbody tr th {\n        vertical-align: top;\n    }\n\n    .dataframe thead th {\n        text-align: right;\n    }\n</style>\n<table border=\"1\" class=\"dataframe\">\n  <thead>\n    <tr style=\"text-align: right;\">\n      <th></th>\n      <th>CEDULA</th>\n      <th>CODELEC</th>\n      <th>RELLENO</th>\n      <th>FECHACADUC</th>\n      <th>JUNTA</th>\n      <th>NOMBRE</th>\n      <th>PRIMER_APELLIDO</th>\n      <th>SEGUNDO_APPELIDO</th>\n      <th>PROVINCIA</th>\n      <th>CANTON</th>\n      <th>DISTRITO</th>\n      <th>ESTADO</th>\n      <th>FECHA_CONTAGIO</th>\n      <th>FECHA_RECUPERACION</th>\n      <th>RECONTAGIO</th>\n    </tr>\n  </thead>\n  <tbody>\n    <tr>\n      <th>1608902</th>\n      <td>106670226</td>\n      <td>110007</td>\n      <td>2</td>\n      <td>20261028</td>\n      <td>0</td>\n      <td>MAGALI</td>\n      <td>SALAZAR</td>\n      <td>ORTIZ</td>\n      <td>SAN JOSE</td>\n      <td>ALAJUELITA</td>\n      <td>AURORA                                        ...</td>\n      <td>subceptible</td>\n      <td></td>\n      <td></td>\n      <td></td>\n    </tr>\n    <tr>\n      <th>1136858</th>\n      <td>108680940</td>\n      <td>106008</td>\n      <td>2</td>\n      <td>20280523</td>\n      <td>0</td>\n      <td>VANESSA</td>\n      <td>VALVERDE</td>\n      <td>CARVAJAL</td>\n      <td>SAN JOSE</td>\n      <td>ASERRI</td>\n      <td>SAN GABRIEL                                   ...</td>\n      <td>infectado</td>\n      <td>27/12/2019</td>\n      <td></td>\n      <td></td>\n    </tr>\n    <tr>\n      <th>342061</th>\n      <td>113640562</td>\n      <td>109006</td>\n      <td>2</td>\n      <td>20270308</td>\n      <td>0</td>\n      <td>MARIA ELENA</td>\n      <td>CANTILLO</td>\n      <td>AZOFEIFA</td>\n      <td>SAN JOSE</td>\n      <td>SANTA ANA</td>\n      <td>RIO ORO                                       ...</td>\n      <td>infectado</td>\n      <td>26/12/2019</td>\n      <td></td>\n      <td></td>\n    </tr>\n    <tr>\n      <th>1712889</th>\n      <td>108550510</td>\n      <td>105010</td>\n      <td>2</td>\n      <td>20281022</td>\n      <td>0</td>\n      <td>AIDA</td>\n      <td>CAMACHO</td>\n      <td>CASTILLO</td>\n      <td>SAN JOSE</td>\n      <td>TARRAZU</td>\n      <td>SAN JERONIMO                                  ...</td>\n      <td>recuperado</td>\n      <td>26/12/2019</td>\n      <td>10/01/2020</td>\n      <td>SI</td>\n    </tr>\n    <tr>\n      <th>338381</th>\n      <td>800730211</td>\n      <td>101008</td>\n      <td>1</td>\n      <td>20260913</td>\n      <td>0</td>\n      <td>FLAVIO</td>\n      <td>TAPIA</td>\n      <td>INSUASTI</td>\n      <td>SAN JOSE</td>\n      <td>CENTRAL</td>\n      <td>SAN SEBASTIAN                                 ...</td>\n      <td>recuperado</td>\n      <td>27/12/2019</td>\n      <td>10/01/2020</td>\n      <td>NO</td>\n    </tr>\n    <tr>\n      <th>...</th>\n      <td>...</td>\n      <td>...</td>\n      <td>...</td>\n      <td>...</td>\n      <td>...</td>\n      <td>...</td>\n      <td>...</td>\n      <td>...</td>\n      <td>...</td>\n      <td>...</td>\n      <td>...</td>\n      <td>...</td>\n      <td>...</td>\n      <td>...</td>\n      <td>...</td>\n    </tr>\n    <tr>\n      <th>2371316</th>\n      <td>604200939</td>\n      <td>302020</td>\n      <td>2</td>\n      <td>20250320</td>\n      <td>0</td>\n      <td>MARILYN YESENIA</td>\n      <td>VILLALOBOS</td>\n      <td>OCHOA</td>\n      <td>CARTAGO</td>\n      <td>PARAISO</td>\n      <td>LLANOS DE SANTA LUCIA                         ...</td>\n      <td>subceptible</td>\n      <td></td>\n      <td></td>\n      <td></td>\n    </tr>\n    <tr>\n      <th>1130988</th>\n      <td>603670168</td>\n      <td>610001</td>\n      <td>1</td>\n      <td>20270516</td>\n      <td>0</td>\n      <td>VICTOR MANUEL</td>\n      <td>MUOZ</td>\n      <td>GOMEZ</td>\n      <td>PUNTARENAS</td>\n      <td>CORREDORES</td>\n      <td>NEILY                                         ...</td>\n      <td>fallecido</td>\n      <td>28/12/2019</td>\n      <td>10/01/2020</td>\n      <td></td>\n    </tr>\n    <tr>\n      <th>95426</th>\n      <td>103970434</td>\n      <td>110004</td>\n      <td>2</td>\n      <td>20220331</td>\n      <td>0</td>\n      <td>ZULEMA</td>\n      <td>JIMENEZ</td>\n      <td>CHAVARRIA</td>\n      <td>SAN JOSE</td>\n      <td>ALAJUELITA</td>\n      <td>CONCEPCION ABAJO                              ...</td>\n      <td>recuperado</td>\n      <td>28/12/2019</td>\n      <td>10/01/2020</td>\n      <td>NO</td>\n    </tr>\n    <tr>\n      <th>930555</th>\n      <td>103800106</td>\n      <td>101015</td>\n      <td>1</td>\n      <td>20220430</td>\n      <td>0</td>\n      <td>TOMAS IGNACIO</td>\n      <td>DE LA OSSA</td>\n      <td>THOMPSON</td>\n      <td>SAN JOSE</td>\n      <td>CENTRAL</td>\n      <td>ARANJUEZ                                      ...</td>\n      <td>fallecido</td>\n      <td>30/12/2019</td>\n      <td>10/01/2020</td>\n      <td></td>\n    </tr>\n    <tr>\n      <th>2146026</th>\n      <td>114960167</td>\n      <td>501015</td>\n      <td>1</td>\n      <td>20300204</td>\n      <td>0</td>\n      <td>GERALD STEVEN</td>\n      <td>MADRIGAL</td>\n      <td>CASCANTE</td>\n      <td>GUANACASTE</td>\n      <td>LIBERIA</td>\n      <td>LA VICTORIA                                   ...</td>\n      <td>infectado</td>\n      <td>29/12/2019</td>\n      <td></td>\n      <td></td>\n    </tr>\n  </tbody>\n</table>\n<p>65 rows × 15 columns</p>\n</div>"
     },
     "metadata": {},
     "execution_count": 23
    }
   ],
   "source": [
    "#calcular días, se suma uno cada vez que se ejecuta este chunk\n",
    "modified_date = datetime.strptime(date, '%d/%m/%Y') + timedelta(days=days)\n",
    "actual_date=datetime.strftime(modified_date, '%d/%m/%Y')\n",
    "days=days+1\n",
    "#cantidad aleatorio de personas infectadas por día\n",
    "cantidad_infectados = np.random.choice(range(1,999))\n",
    "print('fecha: {0}, cantidad de infectados: {1}'.format(actual_date, cantidad_infectados))\n",
    "#se saca la muestra con la cantidad de personas infectadas\n",
    "infectados=padron_Completo.sample(n = cantidad_infectados)\n",
    "#se le asigna un valor aleatorio que representa si está infectado...\n",
    "infectados['ESTADO']=np.random.randint(1,5, size=cantidad_infectados)\n",
    "#se cambian los valores por descripciones\n",
    "infectados['ESTADO']= infectados['ESTADO'].apply(lambda x : estado[x])\n",
    "#se sacan valores cercanos a 14 para determinar la cantidad de días contagiado\n",
    "dias_infeccion = np.random.normal(14,1.0,1).astype(np.int)\n",
    "#se asigna el día de contagio según el valor aleatorio\n",
    "infectados['FECHA_CONTAGIO']=infectados['ESTADO'].apply(lambda x: datetime.strftime(datetime.strptime(actual_date, '%d/%m/%Y') - timedelta(days=np.random.normal(14,1.0,1).astype(np.int)[0].item()), '%d/%m/%Y') if x!='subceptible'  else '')\n",
    "#se asigna el día de recuperación\n",
    "infectados['FECHA_RECUPERACION']=infectados['ESTADO'].apply(lambda x: actual_date if x=='recuperado' or x=='fallecido' else '')\n",
    "#se determina el recontagio\n",
    "infectados['RECONTAGIO']=infectados['ESTADO'].apply(lambda x: np.random.choice(['SI','NO']) if x=='recuperado' else '')\n",
    "# se exporta a csv\n",
    "infectados.to_csv(('{0}.csv').format(actual_date.replace('/','')))\n"
   ]
  }
 ]
}