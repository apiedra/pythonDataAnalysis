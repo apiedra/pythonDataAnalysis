{
 "metadata": {
  "language_info": {
   "codemirror_mode": {
    "name": "ipython",
    "version": 3
   },
   "file_extension": ".py",
   "mimetype": "text/x-python",
   "name": "python",
   "nbconvert_exporter": "python",
   "pygments_lexer": "ipython3",
   "version": "3.8.3-final"
  },
  "orig_nbformat": 2,
  "kernelspec": {
   "name": "python38332bite4196d9ba605403780aceabee88d0318",
   "display_name": "Python 3.8.3 32-bit"
  }
 },
 "nbformat": 4,
 "nbformat_minor": 2,
 "cells": [
  {
   "cell_type": "markdown",
   "metadata": {},
   "source": [
    "Declaración de librerías e inicialización de valores"
   ]
  },
  {
   "cell_type": "markdown",
   "metadata": {},
   "source": [
    "Ruta del dataset: https://www.tse.go.cr/zip/padron/padron_completo.zip "
   ]
  },
  {
   "cell_type": "code",
   "execution_count": 1,
   "metadata": {},
   "outputs": [],
   "source": [
    "import pandas as pd\n",
    "\n",
    "import numpy as np\n",
    "from datetime import datetime, timedelta\n",
    "date = '31/12/2019'#init date\n",
    "days=1\n",
    "estado = {\n",
    "    1: 'subceptible', \n",
    "    2: 'infectado',\n",
    "    3: 'recuperado',\n",
    "    4: 'fallecido'\n",
    "}"
   ]
  },
  {
   "cell_type": "markdown",
   "metadata": {},
   "source": [
    "Se lee los archivos csv(se hace de esta forma por que los caracteres especiales daban error)"
   ]
  },
  {
   "cell_type": "code",
   "execution_count": 4,
   "metadata": {
    "tags": []
   },
   "outputs": [],
   "source": [
    "\n",
    "with open('PADRON_COMPLETO.txt', 'r', encoding='utf8', errors='ignore') as pad:\n",
    "    padron = pd.read_csv(pad, encoding='utf-8',header=None)\n",
    "\n",
    "with open('Distelec.txt', 'r', encoding='utf8', errors='ignore') as dire:\n",
    "    direcciones = pd.read_csv(dire, encoding='utf-8',header=None)\n"
   ]
  },
  {
   "cell_type": "markdown",
   "metadata": {},
   "source": [
    "Se asigna un nombre a las columna"
   ]
  },
  {
   "cell_type": "code",
   "execution_count": 5,
   "metadata": {
    "tags": []
   },
   "outputs": [],
   "source": [
    "direcciones=direcciones.rename(columns={0: \"CODELEC\", 1: \"PROVINCIA\", 2: \"CANTON\", 3: \"DISTRITO\"})\n",
    "padron=padron.rename(columns={0: \"CEDULA\", 1: \"CODELEC\", 2: \"RELLENO\", 3: \"FECHACADUC\", 4: \"JUNTA\", 5: \"NOMBRE\", 6: \"PRIMER_APELLIDO\", 7: \"SEGUNDO_APPELIDO\"})"
   ]
  },
  {
   "cell_type": "markdown",
   "metadata": {},
   "source": [
    "Se hace merge de los dos fuentes para manejar un sólo dataset"
   ]
  },
  {
   "cell_type": "code",
   "execution_count": 6,
   "metadata": {},
   "outputs": [
    {
     "output_type": "execute_result",
     "data": {
      "text/plain": "      CEDULA  CODELEC  RELLENO  FECHACADUC  JUNTA  \\\n0  100339724   109007        1    20231119      0   \n1  101300341   109007        2    20220228      0   \n\n                           NOMBRE             PRIMER_APELLIDO  \\\n0  JOSE                            DELGADO                      \n1  ERMIDA                          SOLIS                        \n\n             SEGUNDO_APPELIDO PROVINCIA     CANTON  \\\n0  CORRALES                    SAN JOSE  SANTA ANA   \n1  FALLAS                      SAN JOSE  SANTA ANA   \n\n                                            DISTRITO  \n0  PIEDADES                                      ...  \n1  PIEDADES                                      ...  ",
      "text/html": "<div>\n<style scoped>\n    .dataframe tbody tr th:only-of-type {\n        vertical-align: middle;\n    }\n\n    .dataframe tbody tr th {\n        vertical-align: top;\n    }\n\n    .dataframe thead th {\n        text-align: right;\n    }\n</style>\n<table border=\"1\" class=\"dataframe\">\n  <thead>\n    <tr style=\"text-align: right;\">\n      <th></th>\n      <th>CEDULA</th>\n      <th>CODELEC</th>\n      <th>RELLENO</th>\n      <th>FECHACADUC</th>\n      <th>JUNTA</th>\n      <th>NOMBRE</th>\n      <th>PRIMER_APELLIDO</th>\n      <th>SEGUNDO_APPELIDO</th>\n      <th>PROVINCIA</th>\n      <th>CANTON</th>\n      <th>DISTRITO</th>\n    </tr>\n  </thead>\n  <tbody>\n    <tr>\n      <th>0</th>\n      <td>100339724</td>\n      <td>109007</td>\n      <td>1</td>\n      <td>20231119</td>\n      <td>0</td>\n      <td>JOSE</td>\n      <td>DELGADO</td>\n      <td>CORRALES</td>\n      <td>SAN JOSE</td>\n      <td>SANTA ANA</td>\n      <td>PIEDADES                                      ...</td>\n    </tr>\n    <tr>\n      <th>1</th>\n      <td>101300341</td>\n      <td>109007</td>\n      <td>2</td>\n      <td>20220228</td>\n      <td>0</td>\n      <td>ERMIDA</td>\n      <td>SOLIS</td>\n      <td>FALLAS</td>\n      <td>SAN JOSE</td>\n      <td>SANTA ANA</td>\n      <td>PIEDADES                                      ...</td>\n    </tr>\n  </tbody>\n</table>\n</div>"
     },
     "metadata": {},
     "execution_count": 6
    }
   ],
   "source": [
    "padron_Completo=padron.merge(direcciones, left_on=\"CODELEC\", right_on=\"CODELEC\")\n",
    "padron_Completo.head(2)"
   ]
  },
  {
   "cell_type": "markdown",
   "metadata": {},
   "source": [
    "Se genera el dataset y se guardar en csv"
   ]
  },
  {
   "cell_type": "code",
   "execution_count": 16,
   "metadata": {
    "tags": []
   },
   "outputs": [
    {
     "output_type": "stream",
     "name": "stdout",
     "text": "fecha: 07/01/2020, cantidad de infectados: 560\n"
    },
    {
     "output_type": "execute_result",
     "data": {
      "text/plain": "            CEDULA  CODELEC  RELLENO  FECHACADUC  JUNTA  \\\n612718   110790406   401001        1    20300204      0   \n1347960  107690773   109010        1    20240805      0   \n3030343  303110487   305070        2    20280207      0   \n2373886  113910390   611005        1    20280420      0   \n471931   700470237   706006        2    20300313      0   \n\n                                 NOMBRE             PRIMER_APELLIDO  \\\n612718   ERICK MAURICIO                  LOBO                         \n1347960  ROBERTO                         ARIAS                        \n3030343  YAMILETTE                       DELGADO                      \n2373886  IRVIN ANTONIO                   SEVILLA                      \n471931   EMILCE                          GUILLEN                      \n\n                   SEGUNDO_APPELIDO   PROVINCIA     CANTON  \\\n612718   HERNANDEZ                      HEREDIA    CENTRAL   \n1347960  CALVO                         SAN JOSE  SANTA ANA   \n3030343  GOMEZ                          CARTAGO  TURRIALBA   \n2373886  MORA                        PUNTARENAS   GARABITO   \n471931   SOLIS                            LIMON    GUACIMO   \n\n                                                  DISTRITO       ESTADO  \\\n612718   HEREDIA                                       ...   recuperado   \n1347960  SAN RAFAEL                                    ...  subceptible   \n3030343  CANADA                                        ...   recuperado   \n2373886  HERRADURA                                     ...    infectado   \n471931   POCORA PARTE NORTE                            ...    fallecido   \n\n        FECHA_CONTAGIO FECHA_RECUPERACION RECONTAGIO  \n612718      24/12/2019         07/01/2020         SI  \n1347960                                               \n3030343     25/12/2019         07/01/2020         SI  \n2373886     07/01/2020                                \n471931      24/12/2019         07/01/2020             ",
      "text/html": "<div>\n<style scoped>\n    .dataframe tbody tr th:only-of-type {\n        vertical-align: middle;\n    }\n\n    .dataframe tbody tr th {\n        vertical-align: top;\n    }\n\n    .dataframe thead th {\n        text-align: right;\n    }\n</style>\n<table border=\"1\" class=\"dataframe\">\n  <thead>\n    <tr style=\"text-align: right;\">\n      <th></th>\n      <th>CEDULA</th>\n      <th>CODELEC</th>\n      <th>RELLENO</th>\n      <th>FECHACADUC</th>\n      <th>JUNTA</th>\n      <th>NOMBRE</th>\n      <th>PRIMER_APELLIDO</th>\n      <th>SEGUNDO_APPELIDO</th>\n      <th>PROVINCIA</th>\n      <th>CANTON</th>\n      <th>DISTRITO</th>\n      <th>ESTADO</th>\n      <th>FECHA_CONTAGIO</th>\n      <th>FECHA_RECUPERACION</th>\n      <th>RECONTAGIO</th>\n    </tr>\n  </thead>\n  <tbody>\n    <tr>\n      <th>612718</th>\n      <td>110790406</td>\n      <td>401001</td>\n      <td>1</td>\n      <td>20300204</td>\n      <td>0</td>\n      <td>ERICK MAURICIO</td>\n      <td>LOBO</td>\n      <td>HERNANDEZ</td>\n      <td>HEREDIA</td>\n      <td>CENTRAL</td>\n      <td>HEREDIA                                       ...</td>\n      <td>recuperado</td>\n      <td>24/12/2019</td>\n      <td>07/01/2020</td>\n      <td>SI</td>\n    </tr>\n    <tr>\n      <th>1347960</th>\n      <td>107690773</td>\n      <td>109010</td>\n      <td>1</td>\n      <td>20240805</td>\n      <td>0</td>\n      <td>ROBERTO</td>\n      <td>ARIAS</td>\n      <td>CALVO</td>\n      <td>SAN JOSE</td>\n      <td>SANTA ANA</td>\n      <td>SAN RAFAEL                                    ...</td>\n      <td>subceptible</td>\n      <td></td>\n      <td></td>\n      <td></td>\n    </tr>\n    <tr>\n      <th>3030343</th>\n      <td>303110487</td>\n      <td>305070</td>\n      <td>2</td>\n      <td>20280207</td>\n      <td>0</td>\n      <td>YAMILETTE</td>\n      <td>DELGADO</td>\n      <td>GOMEZ</td>\n      <td>CARTAGO</td>\n      <td>TURRIALBA</td>\n      <td>CANADA                                        ...</td>\n      <td>recuperado</td>\n      <td>25/12/2019</td>\n      <td>07/01/2020</td>\n      <td>SI</td>\n    </tr>\n    <tr>\n      <th>2373886</th>\n      <td>113910390</td>\n      <td>611005</td>\n      <td>1</td>\n      <td>20280420</td>\n      <td>0</td>\n      <td>IRVIN ANTONIO</td>\n      <td>SEVILLA</td>\n      <td>MORA</td>\n      <td>PUNTARENAS</td>\n      <td>GARABITO</td>\n      <td>HERRADURA                                     ...</td>\n      <td>infectado</td>\n      <td>07/01/2020</td>\n      <td></td>\n      <td></td>\n    </tr>\n    <tr>\n      <th>471931</th>\n      <td>700470237</td>\n      <td>706006</td>\n      <td>2</td>\n      <td>20300313</td>\n      <td>0</td>\n      <td>EMILCE</td>\n      <td>GUILLEN</td>\n      <td>SOLIS</td>\n      <td>LIMON</td>\n      <td>GUACIMO</td>\n      <td>POCORA PARTE NORTE                            ...</td>\n      <td>fallecido</td>\n      <td>24/12/2019</td>\n      <td>07/01/2020</td>\n      <td></td>\n    </tr>\n  </tbody>\n</table>\n</div>"
     },
     "metadata": {},
     "execution_count": 16
    }
   ],
   "source": [
    "#calcular días, se suma uno cada vez que se ejecuta este chunk\n",
    "modified_date = datetime.strptime(date, '%d/%m/%Y') + timedelta(days=days)\n",
    "actual_date=datetime.strftime(modified_date, '%d/%m/%Y')\n",
    "days=days+1\n",
    "#cantidad aleatorio de personas infectadas por día\n",
    "cantidad_infectados = np.random.choice(range(1,999))\n",
    "print('fecha: {0}, cantidad de infectados: {1}'.format(actual_date, cantidad_infectados))\n",
    "#se saca la muestra con la cantidad de personas infectadas\n",
    "infectados=padron_Completo.sample(n = cantidad_infectados)\n",
    "#se le asigna un valor aleatorio que representa si está infectado...\n",
    "infectados['ESTADO']=np.random.randint(1,5, size=cantidad_infectados)\n",
    "#se cambian los valores por descripciones\n",
    "infectados['ESTADO']= infectados['ESTADO'].apply(lambda x : estado[x])\n",
    "#se sacan valores cercanos a 14 para determinar la cantidad de días contagiado\n",
    "dias_infeccion = np.random.normal(14,1.0,1).astype(np.int)\n",
    "#se asigna el día de contagia según el valor aleatorio\n",
    "infectados['FECHA_CONTAGIO']=infectados['ESTADO'].apply(lambda x: datetime.strftime(datetime.strptime(actual_date, '%d/%m/%Y') - timedelta(days=np.random.normal(14,1.0,1).astype(np.int)[0].item()), '%d/%m/%Y') if (x!='subceptible' and  x!='infectado') else (actual_date if x=='infectado' else''))\n",
    "#se asigna el día de recuperación\n",
    "infectados['FECHA_RECUPERACION']=infectados['ESTADO'].apply(lambda x: actual_date if x=='recuperado' or x=='fallecido' else '')\n",
    "#si determina el recontagio\n",
    "infectados['RECONTAGIO']=infectados['ESTADO'].apply(lambda x: np.random.choice(['SI','NO']) if x=='recuperado' else '')\n",
    "# se exporta a csv\n",
    "#infectados.to_csv(('{0}.csv').format(actual_date.replace('/','')))\n",
    "infectados\n"
   ]
  },
  {
   "cell_type": "code",
   "execution_count": null,
   "metadata": {},
   "outputs": [],
   "source": []
  }
 ]
}